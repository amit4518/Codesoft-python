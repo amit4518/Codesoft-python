{
 "cells": [
  {
   "cell_type": "code",
   "execution_count": 8,
   "id": "99462b30",
   "metadata": {},
   "outputs": [
    {
     "name": "stdout",
     "output_type": "stream",
     "text": [
      "Enter the desired length of the password: 8\n",
      "Include uppercase letters? (y/n): y\n",
      "Include lowercase letters? (y/n): y\n",
      "Include digits? (y/n): y\n",
      "Include symbols? (y/n): y\n",
      "Your generated password is: #9&ZHE3O\n"
     ]
    }
   ],
   "source": [
    "import random\n",
    "\n",
    "def generate_password(length, complexity):\n",
    "    \"\"\"Generates a random password with the specified length and complexity.\"\"\"\n",
    "\n",
    "    characters = []\n",
    "\n",
    "    if complexity[\"uppercase\"]:\n",
    "        characters += list(\"ABCDEFGHIJKLMNOPQRSTUVWXYZ\")\n",
    "    if complexity[\"lowercase\"]:\n",
    "        characters += list(\"abcdefghijklmnopqrstuvwxyz\")\n",
    "    if complexity[\"symbols\"]:\n",
    "        characters += list(\"!@#$%^&*()_+\")\n",
    "    if complexity[\"digits\"]:\n",
    "        characters += list(\"0123456789\")\n",
    "\n",
    "    password = \"\".join(random.choice(characters) for _ in range(length))\n",
    "    return password\n",
    "\n",
    "def get_user_input():\n",
    "    \"\"\"Prompts the user for password length and complexity preferences.\"\"\"\n",
    "\n",
    "    length = int(input(\"Enter the desired length of the password: \"))\n",
    "\n",
    "    complexity = {\n",
    "        \"uppercase\": True, # Default to all character types\n",
    "        \"lowercase\": True,\n",
    "        \"symbols\": True,   \n",
    "        \"digits\": True,\n",
    "    }\n",
    "\n",
    "\n",
    "    while True:\n",
    "        choice = input(\"Include uppercase letters? (y/n): \")\n",
    "        if choice.lower() in [\"y\", \"n\"]:\n",
    "            complexity[\"uppercase\"] = choice.lower() == \"y\"\n",
    "            break\n",
    "            \n",
    "    while True:\n",
    "        choice = input(\"Include lowercase letters? (y/n): \")\n",
    "        if choice.lower() in [\"y\", \"n\"]:\n",
    "            complexity[\"lowercase\"] = choice.lower() == \"y\"\n",
    "            break\n",
    "\n",
    "    while True:\n",
    "        choice = input(\"Include digits? (y/n): \")\n",
    "        if choice.lower() in [\"y\", \"n\"]:\n",
    "            complexity[\"digits\"] = choice.lower() == \"y\"\n",
    "            break\n",
    "\n",
    "    while True:\n",
    "        choice = input(\"Include symbols? (y/n): \")\n",
    "        if choice.lower() in [\"y\", \"n\"]:\n",
    "            complexity[\"symbols\"] = choice.lower() == \"y\"\n",
    "            break\n",
    "\n",
    "    return length, complexity\n",
    "\n",
    "# Get user input for password preferences\n",
    "length, complexity = get_user_input()\n",
    "\n",
    "# Generate and print the password\n",
    "password = generate_password(length, complexity)\n",
    "print(\"Your generated password is:\", password)"
   ]
  },
  {
   "cell_type": "code",
   "execution_count": null,
   "id": "6b7890b9",
   "metadata": {},
   "outputs": [],
   "source": []
  },
  {
   "cell_type": "code",
   "execution_count": null,
   "id": "e0e3e7ed",
   "metadata": {},
   "outputs": [],
   "source": []
  },
  {
   "cell_type": "code",
   "execution_count": null,
   "id": "a5fbe4a0",
   "metadata": {},
   "outputs": [],
   "source": []
  },
  {
   "cell_type": "code",
   "execution_count": null,
   "id": "fe20f92d",
   "metadata": {},
   "outputs": [],
   "source": []
  },
  {
   "cell_type": "code",
   "execution_count": null,
   "id": "e34dabf1",
   "metadata": {},
   "outputs": [],
   "source": []
  },
  {
   "cell_type": "code",
   "execution_count": null,
   "id": "eb05a2d6",
   "metadata": {},
   "outputs": [],
   "source": []
  },
  {
   "cell_type": "code",
   "execution_count": null,
   "id": "210a7903",
   "metadata": {},
   "outputs": [],
   "source": []
  },
  {
   "cell_type": "code",
   "execution_count": null,
   "id": "bdfa4670",
   "metadata": {},
   "outputs": [],
   "source": []
  },
  {
   "cell_type": "code",
   "execution_count": null,
   "id": "92a7f57d",
   "metadata": {},
   "outputs": [],
   "source": []
  },
  {
   "cell_type": "code",
   "execution_count": null,
   "id": "6de52c9f",
   "metadata": {},
   "outputs": [],
   "source": []
  },
  {
   "cell_type": "code",
   "execution_count": null,
   "id": "b4cac28a",
   "metadata": {},
   "outputs": [],
   "source": []
  },
  {
   "cell_type": "code",
   "execution_count": null,
   "id": "0649416d",
   "metadata": {},
   "outputs": [],
   "source": []
  },
  {
   "cell_type": "code",
   "execution_count": null,
   "id": "608012b3",
   "metadata": {},
   "outputs": [],
   "source": []
  },
  {
   "cell_type": "code",
   "execution_count": null,
   "id": "3ce2f284",
   "metadata": {},
   "outputs": [],
   "source": []
  },
  {
   "cell_type": "code",
   "execution_count": null,
   "id": "7c8f96f1",
   "metadata": {},
   "outputs": [],
   "source": []
  },
  {
   "cell_type": "code",
   "execution_count": null,
   "id": "5c244193",
   "metadata": {},
   "outputs": [],
   "source": []
  }
 ],
 "metadata": {
  "kernelspec": {
   "display_name": "Python 3 (ipykernel)",
   "language": "python",
   "name": "python3"
  },
  "language_info": {
   "codemirror_mode": {
    "name": "ipython",
    "version": 3
   },
   "file_extension": ".py",
   "mimetype": "text/x-python",
   "name": "python",
   "nbconvert_exporter": "python",
   "pygments_lexer": "ipython3",
   "version": "3.11.5"
  }
 },
 "nbformat": 4,
 "nbformat_minor": 5
}
