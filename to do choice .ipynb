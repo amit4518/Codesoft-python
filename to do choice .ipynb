{
 "cells": [
  {
   "cell_type": "code",
   "execution_count": 1,
   "id": "f5ad82cb",
   "metadata": {},
   "outputs": [],
   "source": [
    "import os\n",
    "import json\n",
    "from datetime import datetime"
   ]
  },
  {
   "cell_type": "code",
   "execution_count": 2,
   "id": "00da2809",
   "metadata": {},
   "outputs": [],
   "source": [
    "def load_tasks():\n",
    "    if os.path.exists('tasks.json'):\n",
    "        with open('tasks.json', 'r') as file:\n",
    "            tasks = json.load(file)\n",
    "        return tasks\n",
    "    return []"
   ]
  },
  {
   "cell_type": "code",
   "execution_count": 3,
   "id": "1d797d71",
   "metadata": {},
   "outputs": [],
   "source": [
    "def save_tasks(tasks):\n",
    "    with open('tasks.json', 'w') as file:\n",
    "        json.dump(tasks,file)"
   ]
  },
  {
   "cell_type": "code",
   "execution_count": 4,
   "id": "40b882a5",
   "metadata": {},
   "outputs": [],
   "source": [
    "def display_tasks(tasks):\n",
    "    if not tasks:\n",
    "        print(\"No tasks found.\")\n",
    "    else:\n",
    "        for i, task in enumerate(tasks, start=1):\n",
    "            print(f\"{i}. {task['title']} - {task['date']}\")"
   ]
  },
  {
   "cell_type": "code",
   "execution_count": 5,
   "id": "5a1f888c",
   "metadata": {},
   "outputs": [],
   "source": [
    "def add_task(title):\n",
    "    tasks = load_tasks()\n",
    "    date = datetime.now().strftime(\"%Y-%m-%d %H:%M:%S\")\n",
    "    new_task = {'title': title, 'date': date}\n",
    "    tasks.append(new_task)\n",
    "    save_tasks(tasks)\n",
    "    print(f\"Task added: {title}\")"
   ]
  },
  {
   "cell_type": "code",
   "execution_count": 6,
   "id": "0006119a",
   "metadata": {},
   "outputs": [],
   "source": [
    "def remove_task(index):\n",
    "    tasks = load_tasks()\n",
    "    if 1 <= index <= len(tasks):\n",
    "        removed_task = tasks.pop(index - 1)\n",
    "        save_tasks(tasks)\n",
    "        print(f\"Task removed: {removed_task['title']}\")\n",
    "    else:\n",
    "        print(\"Invalid task index.\")"
   ]
  },
  {
   "cell_type": "code",
   "execution_count": 7,
   "id": "f7628683",
   "metadata": {},
   "outputs": [],
   "source": [
    "def main():\n",
    "    while True:\n",
    "        print(\"\\nTo-Do List Application\")\n",
    "        print(\"1. Display tasks\")\n",
    "        print(\"2. Add task\")\n",
    "        print(\"3. Remove task\")\n",
    "        print(\"4. Exit\")\n",
    "        \n",
    "        choice = input(\"Enter your choice: \")\n",
    "\n",
    "        if choice == '1':\n",
    "            tasks = load_tasks()\n",
    "            display_tasks(tasks)\n",
    "        elif choice == '2':\n",
    "            title = input(\"Enter task title: \")\n",
    "            add_task(title)\n",
    "        elif choice == '3':\n",
    "            index = int(input(\"Enter task index to remove: \"))\n",
    "            remove_task(index)\n",
    "        elif choice == '4':\n",
    "            print(\"Exiting To-Do List Application.\")\n",
    "            break\n",
    "        else:\n",
    "            print(\"Invalid choice. Please try again.\")"
   ]
  },
  {
   "cell_type": "code",
   "execution_count": null,
   "id": "7e131795",
   "metadata": {},
   "outputs": [
    {
     "name": "stdout",
     "output_type": "stream",
     "text": [
      "\n",
      "To-Do List Application\n",
      "1. Display tasks\n",
      "2. Add task\n",
      "3. Remove task\n",
      "4. Exit\n",
      "Enter your choice: 1.go to college 2.play games 3.read a book 4.watch a movie\n",
      "Invalid choice. Please try again.\n",
      "\n",
      "To-Do List Application\n",
      "1. Display tasks\n",
      "2. Add task\n",
      "3. Remove task\n",
      "4. Exit\n"
     ]
    }
   ],
   "source": [
    "if __name__ == \"__main__\":\n",
    "    main ()"
   ]
  },
  {
   "cell_type": "code",
   "execution_count": null,
   "id": "5829cc9a",
   "metadata": {},
   "outputs": [],
   "source": []
  },
  {
   "cell_type": "code",
   "execution_count": null,
   "id": "facab901",
   "metadata": {},
   "outputs": [],
   "source": []
  },
  {
   "cell_type": "code",
   "execution_count": null,
   "id": "aeca1197",
   "metadata": {},
   "outputs": [],
   "source": []
  },
  {
   "cell_type": "code",
   "execution_count": null,
   "id": "618013ca",
   "metadata": {},
   "outputs": [],
   "source": []
  },
  {
   "cell_type": "code",
   "execution_count": null,
   "id": "c8de4b9d",
   "metadata": {},
   "outputs": [],
   "source": []
  },
  {
   "cell_type": "code",
   "execution_count": null,
   "id": "0d2f1fd6",
   "metadata": {},
   "outputs": [],
   "source": []
  },
  {
   "cell_type": "code",
   "execution_count": null,
   "id": "8b35eb73",
   "metadata": {},
   "outputs": [],
   "source": []
  },
  {
   "cell_type": "code",
   "execution_count": null,
   "id": "fbb417fd",
   "metadata": {},
   "outputs": [],
   "source": []
  },
  {
   "cell_type": "code",
   "execution_count": null,
   "id": "9ba690ce",
   "metadata": {},
   "outputs": [],
   "source": []
  },
  {
   "cell_type": "code",
   "execution_count": null,
   "id": "e5373f66",
   "metadata": {},
   "outputs": [],
   "source": []
  },
  {
   "cell_type": "code",
   "execution_count": null,
   "id": "aed341fa",
   "metadata": {},
   "outputs": [],
   "source": []
  },
  {
   "cell_type": "code",
   "execution_count": null,
   "id": "1fb762b5",
   "metadata": {},
   "outputs": [],
   "source": []
  },
  {
   "cell_type": "code",
   "execution_count": null,
   "id": "66e9d002",
   "metadata": {},
   "outputs": [],
   "source": []
  },
  {
   "cell_type": "code",
   "execution_count": null,
   "id": "9ff326ed",
   "metadata": {},
   "outputs": [],
   "source": []
  }
 ],
 "metadata": {
  "kernelspec": {
   "display_name": "Python 3 (ipykernel)",
   "language": "python",
   "name": "python3"
  },
  "language_info": {
   "codemirror_mode": {
    "name": "ipython",
    "version": 3
   },
   "file_extension": ".py",
   "mimetype": "text/x-python",
   "name": "python",
   "nbconvert_exporter": "python",
   "pygments_lexer": "ipython3",
   "version": "3.11.5"
  }
 },
 "nbformat": 4,
 "nbformat_minor": 5
}
